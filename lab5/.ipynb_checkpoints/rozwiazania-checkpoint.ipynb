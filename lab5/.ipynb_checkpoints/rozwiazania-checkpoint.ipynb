{
 "cells": [
  {
   "cell_type": "code",
   "execution_count": null,
   "metadata": {},
   "outputs": [],
   "source": [
    "from matplotlib import pyplot as plt\n",
    "import numpy as np\n",
    "import binascii\n",
    "import cv2 as cv\n",
    "import math\n",
    "plt.rcParams[\"figure.figsize\"] = (18,10)\n",
    "\n",
    "def encode_as_binary_array(msg):\n",
    "    \"\"\"Encode a message as a binary string.\"\"\"\n",
    "    msg = msg.encode(\"utf-8\")\n",
    "    msg = msg.hex()\n",
    "    msg = [msg[i:i + 2] for i in range(0, len(msg), 2)]\n",
    "    msg = [ \"{:08b}\".format(int(el, base=16)) for el in msg]\n",
    "    return \"\".join(msg)\n",
    "\n",
    "def decode_from_binary_array(array):\n",
    "    \"\"\"Decode a binary string to utf8.\"\"\"\n",
    "    array = [array[i:i+8] for i in range(0, len(array), 8)]\n",
    "    if len(array[-1]) != 8:\n",
    "        array[-1] = array[-1] + \"0\" * (8 - len(array[-1]))\n",
    "    array = [ \"{:02x}\".format(int(el, 2)) for el in array]\n",
    "    array = \"\".join(array)\n",
    "    result = binascii.unhexlify(array)\n",
    "    return result.decode(\"utf-8\", errors=\"replace\")\n",
    "\n",
    "def load_image(path, pad=False):\n",
    "    \"\"\"Load an image.\n",
    "    \n",
    "    If pad is set then pad an image to multiple of 8 pixels.\n",
    "    \"\"\"\n",
    "    image = cv.imread(path)\n",
    "    image = cv.cvtColor(image, cv.COLOR_BGR2RGB)\n",
    "    if pad:\n",
    "        y_pad = 8 - (image.shape[0] % 8)\n",
    "        x_pad = 8 - (image.shape[1] % 8)\n",
    "        image = np.pad(\n",
    "            image, ((0, y_pad), (0, x_pad) ,(0, 0)), mode='constant')\n",
    "    return image\n",
    "\n",
    "\n",
    "def save_image(path, image):\n",
    "    \"\"\"Save an image.\"\"\"\n",
    "    plt.imsave(path, image) \n",
    "\n",
    "\n",
    "def clamp(n, minn, maxn):\n",
    "    \"\"\"Clamp the n value to be in range (minn, maxn).\"\"\"\n",
    "    return max(min(maxn, n), minn)\n",
    "\n",
    "def hide_message(image, message, nbits=1):\n",
    "    \"\"\"Hide a message in an image (LSB).\n",
    "    \n",
    "    nbits: number of least significant bits\n",
    "    \"\"\"\n",
    "    nbits = clamp(nbits, 1, 8)\n",
    "    shape = image.shape\n",
    "    image = np.copy(image).flatten()\n",
    "    if len(message) > len(image) * nbits:\n",
    "        raise ValueError(\"Message is to long :(\")\n",
    "    \n",
    "    chunks = [message[i:i + nbits] for i in range(0, len(message), nbits)]\n",
    "    for i, chunk in enumerate(chunks):\n",
    "        byte = \"{:08b}\".format(image[i])\n",
    "        new_byte = byte[:-nbits] + chunk\n",
    "        image[i] = int(new_byte, 2)\n",
    "        \n",
    "    return image.reshape(shape)\n",
    "\n",
    "def reveal_message(image, nbits=1, length=0):\n",
    "    \"\"\"Reveal the hidden message.\n",
    "    \n",
    "    nbits: number of least significant bits\n",
    "    length: length of the message in bits.\n",
    "    \"\"\"\n",
    "    nbits = clamp(nbits, 1, 8)\n",
    "    shape = image.shape\n",
    "    image = np.copy(image).flatten()\n",
    "    length_in_pixels = math.ceil(length/nbits)\n",
    "    if len(image) < length_in_pixels or length_in_pixels <= 0:\n",
    "        length_in_pixels = len(image)\n",
    "    \n",
    "    message = \"\"\n",
    "    i = 0\n",
    "    while i < length_in_pixels:\n",
    "        byte = \"{:08b}\".format(image[i])\n",
    "        message += byte[-nbits:]\n",
    "        i += 1\n",
    "        \n",
    "    mod = length % -nbits\n",
    "    if mod != 0:\n",
    "        message = message[:mod]\n",
    "    return message"
   ]
  },
  {
   "cell_type": "markdown",
   "metadata": {},
   "source": [
    "# Zadanie 1"
   ]
  },
  {
   "cell_type": "code",
   "execution_count": null,
   "metadata": {},
   "outputs": [],
   "source": [
    "original_image = load_image(\"images/PNG_transparency_demonstration_1.png\")\n",
    "\n",
    "message = \"Wiadomosc do ukrycia\"\n",
    "n = 1\n",
    "\n",
    "encoded_message = encode_as_binary_array(message)\n",
    "image_with_message = hide_message(original_image, encoded_message, n)\n",
    "\n",
    "save_image(\"images/zadanie_1.png\", image_with_message)\n",
    "\n",
    "loaded_image_with_message = load_image(\"images/zadanie_1.png\")\n",
    "\n",
    "decoded_message = decode_from_binary_array(reveal_message(loaded_image_with_message, nbits=n, length=len(encoded_message)))\n",
    "\n",
    "print(decoded_message)\n",
    "\n",
    "f, ar = plt.subplots(1, 3)\n",
    "\n",
    "ar[0].imshow(original_image)\n",
    "ar[0].set_title(\"Original image\")\n",
    "\n",
    "ar[1].imshow(image_with_message)\n",
    "ar[1].set_title(\"Image with message\")\n",
    "\n",
    "ar[2].imshow(loaded_image_with_message)\n",
    "ar[2].set_title(\"Loaded image with message\")"
   ]
  },
  {
   "cell_type": "markdown",
   "metadata": {},
   "source": [
    "# Zadanie 2"
   ]
  },
  {
   "cell_type": "code",
   "execution_count": null,
   "metadata": {},
   "outputs": [],
   "source": [
    "from lorem_text import lorem\n",
    "\n",
    "original_image = load_image(\"images/PNG_transparency_demonstration_1.png\")\n",
    "\n",
    "f, ar = plt.subplots(1, 8)\n",
    "g, mse_plot = plt.subplots()\n",
    "\n",
    "nbits = 1\n",
    "\n",
    "message_len = int(len(original_image) * 0.9)    \n",
    "message = lorem.words(message_len)\n",
    "\n",
    "mse_results = [0 for x in range(8)]\n",
    "nbits_values = [1, 2, 3, 4, 5, 6, 7, 8]\n",
    "\n",
    "for i in range(8):\n",
    "    \n",
    "    encode_as_binary_array(message)\n",
    "    image_with_message = hide_message(original_image, encoded_message, nbits)\n",
    "        \n",
    "    ar[i].imshow(image_with_message)\n",
    "    \n",
    "    mse = np.sum((original_image.astype(\"float\") - image_with_message.astype(\"float\")) ** 2)\n",
    "    mse /= float(3 * original_image.shape[0] * original_image.shape[1])\n",
    "    \n",
    "    mse_results[i] = mse\n",
    "   \n",
    "    nbits += 1\n",
    "\n",
    "mse_plot.plot(nbits_values, mse_results)\n"
   ]
  },
  {
   "cell_type": "markdown",
   "metadata": {},
   "source": [
    "# Zadanie 3"
   ]
  },
  {
   "cell_type": "code",
   "execution_count": null,
   "metadata": {},
   "outputs": [],
   "source": [
    "#\n",
    "# tu umieść kod\n",
    "#"
   ]
  },
  {
   "cell_type": "markdown",
   "metadata": {},
   "source": [
    "# Zadanie 4"
   ]
  },
  {
   "cell_type": "code",
   "execution_count": null,
   "metadata": {},
   "outputs": [],
   "source": [
    "#\n",
    "# tu umieść kod\n",
    "#"
   ]
  },
  {
   "cell_type": "markdown",
   "metadata": {},
   "source": [
    "# Zadanie 5"
   ]
  },
  {
   "cell_type": "code",
   "execution_count": null,
   "metadata": {},
   "outputs": [],
   "source": [
    "#\n",
    "# tu umieść kod\n",
    "#"
   ]
  }
 ],
 "metadata": {
  "kernelspec": {
   "display_name": "Python 3",
   "language": "python",
   "name": "python3"
  },
  "language_info": {
   "codemirror_mode": {
    "name": "ipython",
    "version": 3
   },
   "file_extension": ".py",
   "mimetype": "text/x-python",
   "name": "python",
   "nbconvert_exporter": "python",
   "pygments_lexer": "ipython3",
   "version": "3.8.5"
  }
 },
 "nbformat": 4,
 "nbformat_minor": 4
}
