{
 "cells": [
  {
   "cell_type": "markdown",
   "metadata": {},
   "source": [
    "# Zadanie 1"
   ]
  },
  {
   "cell_type": "code",
   "execution_count": 2,
   "metadata": {},
   "outputs": [
    {
     "name": "stdout",
     "output_type": "stream",
     "text": [
      "Test\n"
     ]
    }
   ],
   "source": [
    "print('Test')"
   ]
  },
  {
   "cell_type": "markdown",
   "metadata": {},
   "source": [
    "# Zadanie 2"
   ]
  },
  {
   "cell_type": "code",
   "execution_count": 1,
   "metadata": {},
   "outputs": [
    {
     "name": "stdout",
     "output_type": "stream",
     "text": [
      "  ______\n",
      "< Howdy? >\n",
      "  ======\n",
      "           \\\n",
      "            \\\n",
      "             \\\n",
      "              \\                       \n",
      "                                        / `.   .' \" \n",
      "                                .---.  <    > <    >  .---.\n",
      "                                |    \\  \\ - ~ ~ - /  /    |\n",
      "            _____          ..-~             ~-..-~\n",
      "           |     |   \\~~~\\.'                    `./~~~/\n",
      "          ---------   \\__/                        \\__/\n",
      "         .'  O    \\     /               /       \\  \" \n",
      "        (_____,    `._.'               |         }  \\/~~~/\n",
      "         `----.          /       }     |        /    \\__/\n",
      "               `-.      |       /      |       /      `. ,~~|\n",
      "                   ~-.__|      /_ - ~ ^|      /- _      `..-'   \n",
      "                        |     /        |     /     ~-.     `-. _  _  _\n",
      "                        |_____|        |_____|         ~ - . _ _ _ _ _>\n",
      "                 \n"
     ]
    }
   ],
   "source": [
    "import cowsay\n",
    "\n",
    "cowsay.stegosaurus(\"Howdy?\")"
   ]
  },
  {
   "cell_type": "markdown",
   "metadata": {},
   "source": [
    "# Zadanie 3"
   ]
  },
  {
   "cell_type": "code",
   "execution_count": 22,
   "metadata": {},
   "outputs": [],
   "source": [
    "import math\n",
    "\n",
    "def sqrt(x):\n",
    "    return math.sqrt(x)\n",
    "\n",
    "outputFile = open(\"output_zad3.txt\", \"a\")\n",
    "outputFile.truncate(0)\n",
    "\n",
    "with open('input_zad3.txt') as inputLine:\n",
    "    for number in inputLine:\n",
    "        outputFile.write(number.rstrip() + ' ' + str(sqrt(int (number))) + '\\n')\n",
    "                \n",
    "outputFile.close()"
   ]
  },
  {
   "cell_type": "markdown",
   "metadata": {},
   "source": [
    "# Zadanie 4"
   ]
  },
  {
   "cell_type": "code",
   "execution_count": 61,
   "metadata": {
    "scrolled": true
   },
   "outputs": [
    {
     "name": "stdout",
     "output_type": "stream",
     "text": [
      "Stan poczatkowy:\n",
      "Test1 25.0 3\n",
      "Test2 45.99 2\n",
      "Test3 12.31 10\n",
      "\n",
      "\n",
      "Suma wartosci koszyka:\n",
      "290.08000000000004\n",
      "\n",
      "\n",
      "Zwiekszenie ilosci przedmiotu Test1:\n",
      "Test1 25.0 4\n",
      "Test2 45.99 2\n",
      "Test3 12.31 10\n",
      "\n",
      "\n",
      "Zmniejszenie ilosci przedmiotu Test3:\n",
      "Test1 25.0 4\n",
      "Test2 45.99 2\n",
      "Test3 12.31 9\n",
      "\n",
      "\n",
      "Zwiekszenie i zmniejszenie ilosci nie istniejacego przedmiotu:\n",
      "Test1 25.0 4\n",
      "Test2 45.99 2\n",
      "Test3 12.31 9\n"
     ]
    }
   ],
   "source": [
    "class Product:\n",
    "    \n",
    "    def __init__(self, name, price, quantity):\n",
    "        self.name = name\n",
    "        self.price = price\n",
    "        self.quantity = quantity        \n",
    "    \n",
    "\n",
    "class Cart:\n",
    "\n",
    "    products = [Product('Test1', 25.0, 3), Product('Test2', 45.99, 2), Product('Test3', 12.31, 10)]\n",
    "    \n",
    "    def __init__(self):\n",
    "        pass\n",
    "     \n",
    "    def add(self, name):\n",
    "        for product in self.products:\n",
    "            if(name == product.name):\n",
    "                product.quantity += 1\n",
    "                \n",
    "    def remove(self, name):           \n",
    "        for product in self.products:\n",
    "            if(name == product.name):\n",
    "                product.quantity -= 1\n",
    "                \n",
    "    def totalPrice(self):\n",
    "        total = 0\n",
    "        for product in self.products:\n",
    "            total += (product.price * product.quantity)\n",
    "        return total\n",
    "    \n",
    "    \n",
    "cart = Cart()\n",
    "\n",
    "print('Stan poczatkowy:')\n",
    "for product in cart.products:\n",
    "    print(product.name + ' ' + str(product.price) + ' ' + str(product.quantity))\n",
    "print('\\n')\n",
    "\n",
    "print('Suma wartosci koszyka:')\n",
    "print(cart.totalPrice())\n",
    "print('\\n')\n",
    "    \n",
    "cart.add('Test1')\n",
    "\n",
    "print('Zwiekszenie ilosci przedmiotu Test1:')\n",
    "for product in cart.products:\n",
    "    print(product.name + ' ' + str(product.price) + ' ' + str(product.quantity))\n",
    "print('\\n')    \n",
    "\n",
    "cart.remove('Test3')\n",
    "\n",
    "print('Zmniejszenie ilosci przedmiotu Test3:')\n",
    "for product in cart.products:\n",
    "    print(product.name + ' ' + str(product.price) + ' ' + str(product.quantity))\n",
    "print('\\n')\n",
    "    \n",
    "cart.add('Test4')\n",
    "cart.remove('Test4')\n",
    "\n",
    "print('Zwiekszenie i zmniejszenie ilosci nie istniejacego przedmiotu:')\n",
    "for product in cart.products:\n",
    "    print(product.name + ' ' + str(product.price) + ' ' + str(product.quantity))"
   ]
  },
  {
   "cell_type": "markdown",
   "metadata": {},
   "source": [
    "# Zadanie 5"
   ]
  },
  {
   "cell_type": "code",
   "execution_count": 81,
   "metadata": {},
   "outputs": [
    {
     "name": "stdout",
     "output_type": "stream",
     "text": [
      "metoda __str dla klasy produkt:\n",
      "Product name is Test1 and price is 25.0\n",
      "\n",
      "\n",
      "[Product name is Test1, price is 25.0 and quantity is 3, Product name is Test2, price is 45.99 and quantity is 2, Product name is Test3, price is 12.31 and quantity is 10]\n",
      "\n",
      "\n",
      "Ilosc przedmiotow w koszyku: 15\n",
      "\n",
      "Product name is Test3 and price is 12.31\n",
      "Product name is Test2 and price is 45.99\n",
      "Product name is Test1 and price is 25.0\n"
     ]
    }
   ],
   "source": [
    "class Product:\n",
    "    \n",
    "    def __init__(self, name, price, quantity):\n",
    "        self.name = name\n",
    "        self.price = price\n",
    "        self.quantity = quantity        \n",
    "    \n",
    "    def __str__(self):\n",
    "        return f'Product name is {self.name} and price is {self.price}'\n",
    "    \n",
    "    def __repr__(self):\n",
    "        return f'Product name is {self.name}, price is {self.price} and quantity is {self.quantity}'\n",
    "    \n",
    "\n",
    "class Cart:\n",
    "\n",
    "    products = [Product('Test1', 25.0, 3), Product('Test2', 45.99, 2), Product('Test3', 12.31, 10)]\n",
    "    \n",
    "    def __init__(self):\n",
    "        self.index = len(self.products)\n",
    "    \n",
    "    def __str__(self):\n",
    "        return f'{self.products}'\n",
    "    \n",
    "    def __len__(self):\n",
    "        totalLen = 0\n",
    "        for product in self.products:\n",
    "            totalLen += product.quantity\n",
    "        return totalLen\n",
    "    \n",
    "    def __iter__(self):\n",
    "        return self\n",
    "    \n",
    "    def __next__(self):\n",
    "        if self.index == 0:\n",
    "            raise StopIteration\n",
    "        self.index -= 1\n",
    "        return self.products[self.index]\n",
    "    \n",
    "    def add(self, name):\n",
    "        for product in self.products:\n",
    "            if(name == product.name):\n",
    "                product.quantity += 1\n",
    "                \n",
    "    def remove(self, name):           \n",
    "        for product in self.products:\n",
    "            if(name == product.name):\n",
    "                product.quantity -= 1\n",
    "                \n",
    "    def totalPrice(self):\n",
    "        total = 0\n",
    "        for product in self.products:\n",
    "            total += (product.price * product.quantity)\n",
    "        return total\n",
    "    \n",
    "    \n",
    "product = Product('Test1', 25.0, 3)\n",
    "print(product)\n",
    "print('\\n')\n",
    "\n",
    "cart = Cart()\n",
    "print(cart)\n",
    "print('\\n')\n",
    "print('Ilosc przedmiotow w koszyku: ' + str(len(cart)) + '\\n')\n",
    "\n",
    "for product in cart:\n",
    "    print(product)\n"
   ]
  },
  {
   "cell_type": "code",
   "execution_count": null,
   "metadata": {},
   "outputs": [],
   "source": []
  }
 ],
 "metadata": {
  "kernelspec": {
   "display_name": "Python 3",
   "language": "python",
   "name": "python3"
  },
  "language_info": {
   "codemirror_mode": {
    "name": "ipython",
    "version": 3
   },
   "file_extension": ".py",
   "mimetype": "text/x-python",
   "name": "python",
   "nbconvert_exporter": "python",
   "pygments_lexer": "ipython3",
   "version": "3.8.5"
  }
 },
 "nbformat": 4,
 "nbformat_minor": 4
}
